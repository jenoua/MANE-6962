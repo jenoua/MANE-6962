{
  "cells": [
    {
      "cell_type": "markdown",
      "metadata": {
        "id": "view-in-github",
        "colab_type": "text"
      },
      "source": [
        "<a href=\"https://colab.research.google.com/github/jenoua/MANE-6962/blob/main/Homework_1.ipynb\" target=\"_parent\"><img src=\"https://colab.research.google.com/assets/colab-badge.svg\" alt=\"Open In Colab\"/></a>"
      ]
    },
    {
      "cell_type": "code",
      "execution_count": 1,
      "id": "6568c62a",
      "metadata": {
        "id": "6568c62a"
      },
      "outputs": [],
      "source": [
        "#Homework 1: Alexander Jenouri - RIN: 661959489"
      ]
    },
    {
      "cell_type": "code",
      "execution_count": 2,
      "id": "5d1b8e68",
      "metadata": {
        "colab": {
          "base_uri": "https://localhost:8080/",
          "height": 0
        },
        "id": "5d1b8e68",
        "outputId": "b69d5a5f-205c-4b7e-cd4b-60d6cab99108"
      },
      "outputs": [
        {
          "output_type": "stream",
          "name": "stdout",
          "text": [
            "Problem 1\n",
            "(a):\n",
            "x1 has 5 features, while x2 has 4 features.\n",
            "(b):\n",
            "For x1, L1 = 26.0, L2 = 13.19090595827292, and L_inf = 9.\n",
            "For x2, L1 = 98.0, L2 = 89.16277250063504, and L_inf = 89.\n"
          ]
        }
      ],
      "source": [
        "#Problem 1\n",
        "#(a)\n",
        "import numpy as np\n",
        "x1 = np.array([2, 3, 4, 8, 9])\n",
        "x2 = np.array([2, -3, -4, 89])\n",
        "\n",
        "features1 = len(x1)\n",
        "features2 = len(x2)\n",
        "\n",
        "print(\"Problem 1\")\n",
        "print(\"(a):\\nx1 has {} features, while x2 has {} features.\".format(features1, features2))\n",
        "\n",
        "#(b)\n",
        "def p_norm(x, p):\n",
        "    vector = np.zeros(len(x))\n",
        "    for i in range(len(x)):\n",
        "        vector[i] = abs(x[i])**p\n",
        "    p_norm = sum(vector)**(1/p)\n",
        "    return p_norm\n",
        "\n",
        "x1_L1 = p_norm(x1, 1)\n",
        "x1_L2 = p_norm(x1, 2)\n",
        "x1_Linf = max(x1)\n",
        "\n",
        "x2_L1 = p_norm(x2, 1)\n",
        "x2_L2 = p_norm(x2, 2)\n",
        "x2_Linf = max(x2)\n",
        "\n",
        "print(\"(b):\\nFor x1, L1 = {}, L2 = {}, and L_inf = {}.\".format(x1_L1,x1_L2,x1_Linf))\n",
        "print(\"For x2, L1 = {}, L2 = {}, and L_inf = {}.\".format(x2_L1,x2_L2,x2_Linf))"
      ]
    },
    {
      "cell_type": "code",
      "execution_count": 3,
      "id": "fcf772b2",
      "metadata": {
        "colab": {
          "base_uri": "https://localhost:8080/",
          "height": 0
        },
        "id": "fcf772b2",
        "outputId": "de01ddc7-edb5-4224-a9b1-320e3f9a64b6"
      },
      "outputs": [
        {
          "output_type": "stream",
          "name": "stdout",
          "text": [
            "Problem 2\n",
            "(a):\n",
            "The input image resolution is 1024x1024 with 3 color channels (RGB), which means there are 3145728 pixels. The length of the feature vector is 3145728.\n",
            "(b):\n",
            "The image resolution is converted to 64x64, which means the length of the feature vector is 12288.\n",
            "(c):\n",
            "The matrix W has 38654705664 elements. The vector b has 12288 elements.\n"
          ]
        }
      ],
      "source": [
        "#Problem 2\n",
        "#(a)\n",
        "input_features = 1024*1024*3\n",
        "\n",
        "print(\"Problem 2\")\n",
        "print(\"(a):\\nThe input image resolution is 1024x1024 with 3 color channels (RGB), which means there are {} pixels. The length of the feature vector is {}.\".format(input_features,input_features))\n",
        "\n",
        "#(b)\n",
        "output_features = 64*64*3\n",
        "\n",
        "print(\"(b):\\nThe image resolution is converted to 64x64, which means the length of the feature vector is {}.\".format(output_features,))\n",
        "\n",
        "#(c)\n",
        "W_elements = input_features*output_features #3145728 x 12288\n",
        "b_elements = output_features #12288 x 1\n",
        "\n",
        "print(\"(c):\\nThe matrix W has {} elements. The vector b has {} elements.\".format(W_elements,b_elements))"
      ]
    },
    {
      "cell_type": "code",
      "execution_count": 4,
      "id": "6057aed5",
      "metadata": {
        "colab": {
          "base_uri": "https://localhost:8080/",
          "height": 0
        },
        "id": "6057aed5",
        "outputId": "36a066a9-41c0-4f26-ae82-709dedae51dd"
      },
      "outputs": [
        {
          "output_type": "stream",
          "name": "stdout",
          "text": [
            "Problem 3\n",
            "L1 = 3.0, L2 = 2.449489742783178, L_inf = 2.0.\n"
          ]
        }
      ],
      "source": [
        "#Problem 3\n",
        "W = np.array([[1, -1], [2, 0]])\n",
        "\n",
        "def L1_matrix(W):\n",
        "    L1 = np.zeros((len(W[0]), len(W)))\n",
        "    sums = np.zeros(len(W))\n",
        "    for j in range(len(W)):\n",
        "        for i in range(len(W[0])):\n",
        "            L1[i,j] = abs(W[i,j])\n",
        "        sums[j] = sum(L1[:,j])\n",
        "    L1 = max(sums)\n",
        "    return L1\n",
        "\n",
        "def L2_matrix(W):\n",
        "    #eig_values, v = np.linalg.eig(W)\n",
        "    #for i in range(len(eig_values)):\n",
        "    #    eig_values[i] = abs(eig_values[i])\n",
        "    #p = max(eig_values)\n",
        "    #L2 = (p*(np.matmul(np.transpose(W),W)))**0.5\n",
        "    \n",
        "    W2 = np.append(W[0], W[1])\n",
        "    L2 = np.zeros(len(W2))\n",
        "    for i in range(len(W2)):\n",
        "        L2[i] = W2[i]**2\n",
        "    L2 = (sum(L2))**0.5\n",
        "    return L2\n",
        "\n",
        "def Linf_matrix(W):\n",
        "    Linf = np.zeros((len(W[0]), len(W)))\n",
        "    sums = np.zeros(len(W))\n",
        "    for i in range(len(W[0])):\n",
        "        for j in range(len(W)):\n",
        "            Linf[i,j] = abs(W[i,j])\n",
        "        sums[i] = sum(Linf[i,:])\n",
        "    Linf = max(sums)\n",
        "    return Linf\n",
        "\n",
        "L1 = L1_matrix(W)\n",
        "L2 = L2_matrix(W)\n",
        "Linf = Linf_matrix(W)\n",
        "\n",
        "print(\"Problem 3\")\n",
        "print(\"L1 = {}, L2 = {}, L_inf = {}.\".format(L1,L2,Linf))"
      ]
    },
    {
      "cell_type": "code",
      "execution_count": 5,
      "id": "1b50c62f",
      "metadata": {
        "colab": {
          "base_uri": "https://localhost:8080/",
          "height": 0
        },
        "id": "1b50c62f",
        "outputId": "4f65374f-adf4-49dd-88bf-bee949222bc8"
      },
      "outputs": [
        {
          "output_type": "stream",
          "name": "stdout",
          "text": [
            "accuracy score : 0.9333333333333333\n"
          ]
        }
      ],
      "source": [
        "#Problem 4\n",
        "from sklearn import datasets\n",
        "\n",
        "iris = datasets.load_iris()\n",
        "#%notebook inline\n",
        "#import matplotlib.pyplot as plt\n",
        "\n",
        "X = iris.data[:, :3] # only selecting first three features\n",
        "y = iris.target\n",
        "\n",
        "from sklearn.model_selection import train_test_split\n",
        "\n",
        "X_train, X_test, y_train, y_test=train_test_split(\n",
        "    X,y,\n",
        "    test_size=0.40,\n",
        "    train_size=0.60,\n",
        "    random_state=123,\n",
        "    shuffle=True,\n",
        "    stratify=y)\n",
        "\n",
        "from sklearn import svm\n",
        "\n",
        "clf = svm.SVC()\n",
        "clf.fit(X_train, y_train)\n",
        "\n",
        "preds = clf.predict(X_test)\n",
        "\n",
        "from sklearn.metrics import accuracy_score\n",
        "acc = accuracy_score(y_test,clf.predict(X_test) )\n",
        "print('accuracy score :', acc)"
      ]
    },
    {
      "cell_type": "code",
      "execution_count": 6,
      "id": "4d2d3ace",
      "metadata": {
        "colab": {
          "base_uri": "https://localhost:8080/",
          "height": 801
        },
        "id": "4d2d3ace",
        "outputId": "e5b07451-3c82-442c-992e-9b911c9c52fe"
      },
      "outputs": [
        {
          "output_type": "stream",
          "name": "stdout",
          "text": [
            "Model: \"sequential\"\n",
            "_________________________________________________________________\n",
            " Layer (type)                Output Shape              Param #   \n",
            "=================================================================\n",
            " dense (Dense)               (None, 6)                 12        \n",
            "                                                                 \n",
            " dense_1 (Dense)             (None, 6)                 42        \n",
            "                                                                 \n",
            " dense_2 (Dense)             (None, 6)                 42        \n",
            "                                                                 \n",
            " dense_3 (Dense)             (None, 1)                 7         \n",
            "                                                                 \n",
            "=================================================================\n",
            "Total params: 103\n",
            "Trainable params: 103\n",
            "Non-trainable params: 0\n",
            "_________________________________________________________________\n",
            "1/1 [==============================] - 0s 69ms/step\n",
            "[1.0] => 1.02 (expected 1.00)\n",
            "[4.0] => 1.20 (expected 1.22)\n",
            "[9.0] => 1.38 (expected 1.37)\n",
            "[16.0] => 1.54 (expected 1.49)\n",
            "[25.0] => 1.58 (expected 1.58)\n",
            "[36.0] => 1.64 (expected 1.67)\n",
            "[49.0] => 1.71 (expected 1.74)\n",
            "[64.0] => 1.78 (expected 1.81)\n",
            "[81.0] => 1.87 (expected 1.87)\n",
            "[100.0] => 1.97 (expected 1.93)\n",
            "4/4 [==============================] - 0s 2ms/step\n"
          ]
        },
        {
          "output_type": "execute_result",
          "data": {
            "text/plain": [
              "<matplotlib.legend.Legend at 0x7f9106e10400>"
            ]
          },
          "metadata": {},
          "execution_count": 6
        },
        {
          "output_type": "display_data",
          "data": {
            "text/plain": [
              "<Figure size 432x288 with 1 Axes>"
            ],
            "image/png": "[encoded data removed]"
          },
          "metadata": {
            "needs_background": "light"
          }
        }
      ],
      "source": [
        "#Problem 5\n",
        "import tensorflow as tf\n",
        "from numpy import loadtxt\n",
        "from keras.models import Sequential\n",
        "from keras.layers import Dense\n",
        "from keras import optimizers\n",
        "from tensorflow.python.keras.optimizers import *\n",
        "import numpy as np\n",
        "\n",
        "\n",
        "#Load dataset\n",
        "#split into input (X) and output (y)\n",
        "X = np.array([[1], [4], [9], [16], [25], [36], [49], [64], [81], [100]])\n",
        "X = X*1.0\n",
        "y = np.array([[1], [1.2190], [1.3687], [1.4860], [1.5838], [1.6685], [1.7436], [1.8114], [1.8734], [1.9307]])\n",
        "y = y*1.0\n",
        "\n",
        "#define keras model\n",
        "model = Sequential()\n",
        "\n",
        "model.add(Dense(6,input_dim=1,activation='relu'))\n",
        "model.add(Dense(6,activation='relu'))\n",
        "model.add(Dense(6,activation='relu'))\n",
        "model.add(Dense(1))\n",
        "\n",
        "#compile the keras model\n",
        "opt = optimizers.Adam(learning_rate=0.001)\n",
        "mse = tf.keras.losses.MeanSquaredError(\n",
        "    reduction=tf.keras.losses.Reduction.SUM)\n",
        "model.compile(loss=mse, optimizer=opt)\n",
        "\n",
        "\n",
        "\n",
        "#fit the keras model on the dataset (CPU)\n",
        "model.fit(X,y,epochs=2000,batch_size=10, verbose=0)\n",
        "model.summary()\n",
        "\n",
        "#make class predictions with the model\n",
        "predictions = model.predict(X)\n",
        "\n",
        "#summarize the first 10 cases\n",
        "for i in range(10):\n",
        "    print('%s => %.2f (expected %.2f)' %(X[i].tolist(), predictions[i], y[i]) )\n",
        "    \n",
        "    \n",
        "    \n",
        "import matplotlib.pyplot as plt\n",
        "number_grid = np.linspace(1, 100, 100)\n",
        "plt.scatter(X,y, label='data')\n",
        "plt.plot(number_grid,model.predict(np.expand_dims(number_grid,axis=1)) , color='red', label='model')\n",
        "plt.xlabel('number')\n",
        "plt.ylabel('7th root')\n",
        "plt.legend()"
      ]
    },
    {
      "cell_type": "code",
      "execution_count": 16,
      "id": "ded458bf",
      "metadata": {
        "colab": {
          "base_uri": "https://localhost:8080/",
          "height": 3229
        },
        "id": "ded458bf",
        "outputId": "ca749249-7808-48ac-fc13-2557501ad546"
      },
      "outputs": [
        {
          "output_type": "stream",
          "name": "stdout",
          "text": [
            "Model: \"sequential_10\"\n",
            "_________________________________________________________________\n",
            " Layer (type)                Output Shape              Param #   \n",
            "=================================================================\n",
            " dense_40 (Dense)            (None, 6)                 12        \n",
            "                                                                 \n",
            " dense_41 (Dense)            (None, 6)                 42        \n",
            "                                                                 \n",
            " dense_42 (Dense)            (None, 6)                 42        \n",
            "                                                                 \n",
            " dense_43 (Dense)            (None, 1)                 7         \n",
            "                                                                 \n",
            "=================================================================\n",
            "Total params: 103\n",
            "Trainable params: 103\n",
            "Non-trainable params: 0\n",
            "_________________________________________________________________\n",
            "5/5 [==============================] - 0s 3ms/step\n",
            "[5.1] => 2.17 (expected 1.40)\n",
            "[4.9] => 1.70 (expected 1.40)\n",
            "[4.7] => 1.23 (expected 1.30)\n",
            "[4.6] => 1.00 (expected 1.50)\n",
            "[5.0] => 1.94 (expected 1.40)\n",
            "[5.4] => 2.87 (expected 1.70)\n",
            "[4.6] => 1.00 (expected 1.40)\n",
            "[5.0] => 1.94 (expected 1.50)\n",
            "[4.4] => 0.53 (expected 1.40)\n",
            "[4.9] => 1.70 (expected 1.50)\n",
            "[5.4] => 2.87 (expected 1.50)\n",
            "[4.8] => 1.47 (expected 1.60)\n",
            "[4.8] => 1.47 (expected 1.40)\n",
            "[4.3] => 0.30 (expected 1.10)\n",
            "[5.8] => 3.81 (expected 1.20)\n",
            "[5.7] => 3.58 (expected 1.50)\n",
            "[5.4] => 2.87 (expected 1.30)\n",
            "[5.1] => 2.17 (expected 1.40)\n",
            "[5.7] => 3.58 (expected 1.70)\n",
            "[5.1] => 2.17 (expected 1.50)\n",
            "[5.4] => 2.87 (expected 1.70)\n",
            "[5.1] => 2.17 (expected 1.50)\n",
            "[4.6] => 1.00 (expected 1.00)\n",
            "[5.1] => 2.17 (expected 1.70)\n",
            "[4.8] => 1.47 (expected 1.90)\n",
            "[5.0] => 1.94 (expected 1.60)\n",
            "[5.0] => 1.94 (expected 1.60)\n",
            "[5.2] => 2.41 (expected 1.50)\n",
            "[5.2] => 2.41 (expected 1.40)\n",
            "[4.7] => 1.23 (expected 1.60)\n",
            "[4.8] => 1.47 (expected 1.60)\n",
            "[5.4] => 2.87 (expected 1.50)\n",
            "[5.2] => 2.41 (expected 1.50)\n",
            "[5.5] => 3.11 (expected 1.40)\n",
            "[4.9] => 1.70 (expected 1.50)\n",
            "[5.0] => 1.94 (expected 1.20)\n",
            "[5.5] => 3.11 (expected 1.30)\n",
            "[4.9] => 1.70 (expected 1.40)\n",
            "[4.4] => 0.53 (expected 1.30)\n",
            "[5.1] => 2.17 (expected 1.50)\n",
            "[5.0] => 1.94 (expected 1.30)\n",
            "[4.5] => 0.77 (expected 1.30)\n",
            "[4.4] => 0.53 (expected 1.30)\n",
            "[5.0] => 1.94 (expected 1.60)\n",
            "[5.1] => 2.17 (expected 1.90)\n",
            "[4.8] => 1.47 (expected 1.40)\n",
            "[5.1] => 2.17 (expected 1.60)\n",
            "[4.6] => 1.00 (expected 1.40)\n",
            "[5.3] => 2.64 (expected 1.50)\n",
            "[5.0] => 1.94 (expected 1.40)\n",
            "[7.0] => 5.61 (expected 4.70)\n",
            "[6.4] => 5.02 (expected 4.50)\n",
            "[6.9] => 5.51 (expected 4.90)\n",
            "[5.5] => 3.11 (expected 4.00)\n",
            "[6.5] => 5.11 (expected 4.60)\n",
            "[5.7] => 3.58 (expected 4.50)\n",
            "[6.3] => 4.92 (expected 4.70)\n",
            "[4.9] => 1.70 (expected 3.30)\n",
            "[6.6] => 5.21 (expected 4.60)\n",
            "[5.2] => 2.41 (expected 3.90)\n",
            "[5.0] => 1.94 (expected 3.50)\n",
            "[5.9] => 4.05 (expected 4.20)\n",
            "[6.0] => 4.28 (expected 4.00)\n",
            "[6.1] => 4.51 (expected 4.70)\n",
            "[5.6] => 3.34 (expected 3.60)\n",
            "[6.7] => 5.31 (expected 4.40)\n",
            "[5.6] => 3.34 (expected 4.50)\n",
            "[5.8] => 3.81 (expected 4.10)\n",
            "[6.2] => 4.75 (expected 4.50)\n",
            "[5.6] => 3.34 (expected 3.90)\n",
            "[5.9] => 4.05 (expected 4.80)\n",
            "[6.1] => 4.51 (expected 4.00)\n",
            "[6.3] => 4.92 (expected 4.90)\n",
            "[6.1] => 4.51 (expected 4.70)\n",
            "[6.4] => 5.02 (expected 4.30)\n",
            "[6.6] => 5.21 (expected 4.40)\n",
            "[6.8] => 5.41 (expected 4.80)\n",
            "[6.7] => 5.31 (expected 5.00)\n",
            "[6.0] => 4.28 (expected 4.50)\n",
            "[5.7] => 3.58 (expected 3.50)\n",
            "[5.5] => 3.11 (expected 3.80)\n",
            "[5.5] => 3.11 (expected 3.70)\n",
            "[5.8] => 3.81 (expected 3.90)\n",
            "[6.0] => 4.28 (expected 5.10)\n",
            "[5.4] => 2.87 (expected 4.50)\n",
            "[6.0] => 4.28 (expected 4.50)\n",
            "[6.7] => 5.31 (expected 4.70)\n",
            "[6.3] => 4.92 (expected 4.40)\n",
            "[5.6] => 3.34 (expected 4.10)\n",
            "[5.5] => 3.11 (expected 4.00)\n",
            "[5.5] => 3.11 (expected 4.40)\n",
            "[6.1] => 4.51 (expected 4.60)\n",
            "[5.8] => 3.81 (expected 4.00)\n",
            "[5.0] => 1.94 (expected 3.30)\n",
            "[5.6] => 3.34 (expected 4.20)\n",
            "[5.7] => 3.58 (expected 4.20)\n",
            "[5.7] => 3.58 (expected 4.20)\n",
            "[6.2] => 4.75 (expected 4.30)\n",
            "[5.1] => 2.17 (expected 3.00)\n",
            "[5.7] => 3.58 (expected 4.10)\n",
            "[6.3] => 4.92 (expected 6.00)\n",
            "[5.8] => 3.81 (expected 5.10)\n",
            "[7.1] => 5.71 (expected 5.90)\n",
            "[6.3] => 4.92 (expected 5.60)\n",
            "[6.5] => 5.11 (expected 5.80)\n",
            "[7.6] => 6.20 (expected 6.60)\n",
            "[4.9] => 1.70 (expected 4.50)\n",
            "[7.3] => 5.90 (expected 6.30)\n",
            "[6.7] => 5.31 (expected 5.80)\n",
            "[7.2] => 5.80 (expected 6.10)\n",
            "[6.5] => 5.11 (expected 5.10)\n",
            "[6.4] => 5.02 (expected 5.30)\n",
            "[6.8] => 5.41 (expected 5.50)\n",
            "[5.7] => 3.58 (expected 5.00)\n",
            "[5.8] => 3.81 (expected 5.10)\n",
            "[6.4] => 5.02 (expected 5.30)\n",
            "[6.5] => 5.11 (expected 5.50)\n",
            "[7.7] => 6.30 (expected 6.70)\n",
            "[7.7] => 6.30 (expected 6.90)\n",
            "[6.0] => 4.28 (expected 5.00)\n",
            "[6.9] => 5.51 (expected 5.70)\n",
            "[5.6] => 3.34 (expected 4.90)\n",
            "[7.7] => 6.30 (expected 6.70)\n",
            "[6.3] => 4.92 (expected 4.90)\n",
            "[6.7] => 5.31 (expected 5.70)\n",
            "[7.2] => 5.80 (expected 6.00)\n",
            "[6.2] => 4.75 (expected 4.80)\n",
            "[6.1] => 4.51 (expected 4.90)\n",
            "[6.4] => 5.02 (expected 5.60)\n",
            "[7.2] => 5.80 (expected 5.80)\n",
            "[7.4] => 6.00 (expected 6.10)\n",
            "[7.9] => 6.49 (expected 6.40)\n",
            "[6.4] => 5.02 (expected 5.60)\n",
            "[6.3] => 4.92 (expected 5.10)\n",
            "[6.1] => 4.51 (expected 5.60)\n",
            "[7.7] => 6.30 (expected 6.10)\n",
            "[6.3] => 4.92 (expected 5.60)\n",
            "[6.4] => 5.02 (expected 5.50)\n",
            "[6.0] => 4.28 (expected 4.80)\n",
            "[6.9] => 5.51 (expected 5.40)\n",
            "[6.7] => 5.31 (expected 5.60)\n",
            "[6.9] => 5.51 (expected 5.10)\n",
            "[5.8] => 3.81 (expected 5.10)\n",
            "[6.8] => 5.41 (expected 5.90)\n",
            "[6.7] => 5.31 (expected 5.70)\n",
            "[6.7] => 5.31 (expected 5.20)\n",
            "[6.3] => 4.92 (expected 5.00)\n",
            "[6.5] => 5.11 (expected 5.20)\n",
            "[6.2] => 4.75 (expected 5.40)\n",
            "[5.9] => 4.05 (expected 5.10)\n",
            "1/1 [==============================] - 0s 21ms/step\n"
          ]
        },
        {
          "output_type": "execute_result",
          "data": {
            "text/plain": [
              "<matplotlib.legend.Legend at 0x7f90ff37f8e0>"
            ]
          },
          "metadata": {},
          "execution_count": 16
        },
        {
          "output_type": "display_data",
          "data": {
            "text/plain": [
              "<Figure size 432x288 with 1 Axes>"
            ],
            "image/png": "[encoded data removed]"
          },
          "metadata": {
            "needs_background": "light"
          }
        }
      ],
      "source": [
        "#Problem 6\n",
        "import tensorflow as tf\n",
        "from numpy import loadtxt\n",
        "from keras.models import Sequential\n",
        "from keras.layers import Dense\n",
        "from keras import optimizers\n",
        "from tensorflow.python.keras.optimizers import *\n",
        "import numpy as np\n",
        "\n",
        "#Load dataset\n",
        "#split into input (X) and output (y)\n",
        "from sklearn import datasets\n",
        "iris = datasets.load_iris()\n",
        "\n",
        "X = np.transpose(np.array([iris.data[0:150, 0]])) #sepal length\n",
        "X = X*1.0\n",
        "y = np.transpose(np.array([iris.data[0:150, 2]])) #pedal length\n",
        "y = y*1.0\n",
        "\n",
        "#define keras model\n",
        "model = Sequential()\n",
        "\n",
        "model.add(Dense(6,input_dim=1,activation='relu'))\n",
        "model.add(Dense(6,activation='relu'))\n",
        "model.add(Dense(6,activation='relu'))\n",
        "model.add(Dense(1))\n",
        "\n",
        "#compile the keras model\n",
        "opt = optimizers.Adam(learning_rate=0.001)\n",
        "mse = tf.keras.losses.MeanSquaredError(\n",
        "    reduction=tf.keras.losses.Reduction.SUM)\n",
        "model.compile(loss=mse, optimizer=opt)\n",
        "\n",
        "\n",
        "\n",
        "#fit the keras model on the dataset (CPU)\n",
        "model.fit(X,y,epochs=2000,batch_size=10, verbose=0)\n",
        "model.summary()\n",
        "\n",
        "#make class predictions with the model\n",
        "predictions = model.predict(X)\n",
        "\n",
        "#summarize the first 150 cases\n",
        "for i in range(150):\n",
        "    print('%s => %.2f (expected %.2f)' %(X[i].tolist(), predictions[i], y[i]) )\n",
        "    \n",
        "    \n",
        "    \n",
        "import matplotlib.pyplot as plt\n",
        "plt.scatter(X,y, label='data')\n",
        "test_x = np.linspace(4,8,20)\n",
        "#other test_x = np.array(iris.data[100:150,0]\n",
        "plt.plot(test_x,model.predict(np.expand_dims(test_x,axis=1)) , color='red', label='model')\n",
        "plt.xlabel('Sepal Length')\n",
        "plt.ylabel('Pedal Length')\n",
        "plt.legend()"
      ]
    }
  ],
  "metadata": {
    "kernelspec": {
      "display_name": "Python 3 (ipykernel)",
      "language": "python",
      "name": "python3"
    },
    "language_info": {
      "codemirror_mode": {
        "name": "ipython",
        "version": 3
      },
      "file_extension": ".py",
      "mimetype": "text/x-python",
      "name": "python",
      "nbconvert_exporter": "python",
      "pygments_lexer": "ipython3",
      "version": "3.9.13"
    },
    "colab": {
      "provenance": [],
      "include_colab_link": true
    }
  },
  "nbformat": 4,
  "nbformat_minor": 5
}